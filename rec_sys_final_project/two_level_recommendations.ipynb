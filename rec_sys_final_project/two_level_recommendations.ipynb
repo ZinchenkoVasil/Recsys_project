{
 "cells": [
  {
   "cell_type": "markdown",
   "metadata": {},
   "source": [
    "### Импорты библиотек"
   ]
  },
  {
   "cell_type": "code",
   "execution_count": 1,
   "metadata": {},
   "outputs": [],
   "source": [
    "import pandas as pd\n",
    "import numpy as np\n",
    "import matplotlib.pyplot as plt\n",
    "%matplotlib inline\n",
    "\n",
    "from scipy.sparse import csr_matrix\n",
    "from implicit import als\n",
    "\n",
    "from lightgbm import LGBMClassifier, Dataset\n",
    "import lightgbm\n",
    "\n",
    "from sklearn.model_selection import GridSearchCV\n",
    "\n",
    "import os, sys\n",
    "module_path = os.path.abspath(os.path.join(os.pardir))\n",
    "if module_path not in sys.path:\n",
    "    sys.path.append(module_path)\n",
    "\n",
    "from src.metrics import precision_at_k, recall_at_k\n",
    "from src.utils import prefilter_items\n",
    "from src.recommenders import MainRecommender\n",
    "from src.preprocessing import new_item_features, new_user_features, train_test_preprocessing\n",
    "from src.preprocessing import popularity_recommendation, get_important_features, get_final_recomendation\n",
    "\n",
    "import warnings\n",
    "warnings.simplefilter('ignore')"
   ]
  },
  {
   "cell_type": "markdown",
   "metadata": {},
   "source": [
    "### Загрузка данных"
   ]
  },
  {
   "cell_type": "code",
   "execution_count": 2,
   "metadata": {},
   "outputs": [],
   "source": [
    "DATA_PATH = '../data/retail_train.csv'\n",
    "ITEM_FEATURES_PATH = '../data/product.csv'\n",
    "USER_FEATURES_PATH = '../data/hh_demographic.csv'\n",
    "TEST_1_PATH = '../data/retail_test1.csv'\n",
    "TEST_2_PATH = '../data/retail_test2.csv'\n",
    "\n",
    "data = pd.read_csv(DATA_PATH)\n",
    "item_features = pd.read_csv(ITEM_FEATURES_PATH)\n",
    "user_features = pd.read_csv(USER_FEATURES_PATH)\n",
    "test_1 = pd.read_csv(TEST_1_PATH)\n",
    "\n",
    "# column processing\n",
    "item_features.columns = [col.lower() for col in item_features.columns]\n",
    "user_features.columns = [col.lower() for col in user_features.columns]\n",
    "\n",
    "item_features.rename(columns={'product_id': 'item_id'}, inplace=True)\n",
    "user_features.rename(columns={'household_key': 'user_id'}, inplace=True)"
   ]
  },
  {
   "cell_type": "markdown",
   "metadata": {},
   "source": [
    "### Разбиение датасета на обучающую и две валидационные выборки"
   ]
  },
  {
   "cell_type": "code",
   "execution_count": 3,
   "metadata": {},
   "outputs": [],
   "source": [
    "VAL_SIZE = 5\n",
    "\n",
    "train_1 = data[data['week_no'] < data['week_no'].max() - (VAL_SIZE)]\n",
    "val_1 = data[data['week_no'] >= data['week_no'].max() - (VAL_SIZE)]\n",
    "\n",
    "train_2 = val_1.copy()"
   ]
  },
  {
   "cell_type": "code",
   "execution_count": 4,
   "metadata": {},
   "outputs": [
    {
     "name": "stdout",
     "output_type": "stream",
     "text": [
      "Общее количество юзеров 2499\n",
      "Число юзеров в train_1  2499\n",
      "Число юзеров в val_1    2154\n",
      "Число юзеров в test_1    1885\n"
     ]
    }
   ],
   "source": [
    "print(f'Общее количество юзеров {data.user_id.nunique()}')\n",
    "print(f'Число юзеров в train_1  {train_1.user_id.nunique()}')\n",
    "print(f'Число юзеров в val_1    {val_1.user_id.nunique()}')\n",
    "print(f'Число юзеров в test_1    {test_1.user_id.nunique()}')"
   ]
  },
  {
   "cell_type": "markdown",
   "metadata": {},
   "source": [
    "## Первый уровень рекомендаций"
   ]
  },
  {
   "cell_type": "markdown",
   "metadata": {},
   "source": [
    "### Применяем фильтрацию к датасету, оставляем только нужных кандидатов"
   ]
  },
  {
   "cell_type": "code",
   "execution_count": 5,
   "metadata": {},
   "outputs": [
    {
     "name": "stdout",
     "output_type": "stream",
     "text": [
      "Decreased # items from 85828 to 191\n"
     ]
    }
   ],
   "source": [
    "n_items_before = train_1['item_id'].nunique()\n",
    "train_1 = prefilter_items(train_1, item_features=item_features, take_n_popular=190)\n",
    "n_items_after = train_1['item_id'].nunique()\n",
    "\n",
    "print(f'Decreased # items from {n_items_before} to {n_items_after}')"
   ]
  },
  {
   "cell_type": "code",
   "execution_count": 6,
   "metadata": {},
   "outputs": [
    {
     "name": "stderr",
     "output_type": "stream",
     "text": [
      "WARNING:root:Intel MKL BLAS detected. Its highly recommend to set the environment variable 'export MKL_NUM_THREADS=1' to disable its internal multithreading\n"
     ]
    },
    {
     "data": {
      "application/vnd.jupyter.widget-view+json": {
       "model_id": "84994d53403e47a1aca25cd02c1cc963",
       "version_major": 2,
       "version_minor": 0
      },
      "text/plain": [
       "HBox(children=(FloatProgress(value=0.0, max=20.0), HTML(value='')))"
      ]
     },
     "metadata": {},
     "output_type": "display_data"
    },
    {
     "name": "stdout",
     "output_type": "stream",
     "text": [
      "\n"
     ]
    },
    {
     "data": {
      "application/vnd.jupyter.widget-view+json": {
       "model_id": "c5f0a9c3437e44e6a6e07ecad469aa06",
       "version_major": 2,
       "version_minor": 0
      },
      "text/plain": [
       "HBox(children=(FloatProgress(value=0.0, max=191.0), HTML(value='')))"
      ]
     },
     "metadata": {},
     "output_type": "display_data"
    },
    {
     "name": "stdout",
     "output_type": "stream",
     "text": [
      "\n"
     ]
    }
   ],
   "source": [
    "recommender = MainRecommender(train_1)"
   ]
  },
  {
   "cell_type": "markdown",
   "metadata": {},
   "source": [
    "#### Эмбеддинги"
   ]
  },
  {
   "cell_type": "code",
   "execution_count": 7,
   "metadata": {},
   "outputs": [],
   "source": [
    "items_emb_df = recommender.items_emb_df\n",
    "users_emb_df = recommender.users_emb_df"
   ]
  },
  {
   "cell_type": "markdown",
   "metadata": {},
   "source": [
    "### Добавим фичи"
   ]
  },
  {
   "cell_type": "code",
   "execution_count": 8,
   "metadata": {},
   "outputs": [
    {
     "data": {
      "text/html": [
       "<div>\n",
       "<style scoped>\n",
       "    .dataframe tbody tr th:only-of-type {\n",
       "        vertical-align: middle;\n",
       "    }\n",
       "\n",
       "    .dataframe tbody tr th {\n",
       "        vertical-align: top;\n",
       "    }\n",
       "\n",
       "    .dataframe thead th {\n",
       "        text-align: right;\n",
       "    }\n",
       "</style>\n",
       "<table border=\"1\" class=\"dataframe\">\n",
       "  <thead>\n",
       "    <tr style=\"text-align: right;\">\n",
       "      <th></th>\n",
       "      <th>item_id</th>\n",
       "      <th>manufacturer</th>\n",
       "      <th>department</th>\n",
       "      <th>brand</th>\n",
       "      <th>commodity_desc</th>\n",
       "      <th>sub_commodity_desc</th>\n",
       "      <th>curr_size_of_product</th>\n",
       "      <th>0</th>\n",
       "      <th>1</th>\n",
       "      <th>2</th>\n",
       "      <th>...</th>\n",
       "      <th>12</th>\n",
       "      <th>13</th>\n",
       "      <th>14</th>\n",
       "      <th>coupon_disc</th>\n",
       "      <th>quantity_of_sales</th>\n",
       "      <th>quantity_of_sales_per_week</th>\n",
       "      <th>qnt_of_sales_per_dep</th>\n",
       "      <th>qnt_of_sales_per_item_per_dep_per_week</th>\n",
       "      <th>qnt_of_sales_per_sub_commodity_desc</th>\n",
       "      <th>qnt_of_sales_per_item_per_sub_commodity_desc_per_week</th>\n",
       "    </tr>\n",
       "  </thead>\n",
       "  <tbody>\n",
       "    <tr>\n",
       "      <th>0</th>\n",
       "      <td>25671</td>\n",
       "      <td>2</td>\n",
       "      <td>GROCERY</td>\n",
       "      <td>National</td>\n",
       "      <td>FRZN ICE</td>\n",
       "      <td>ICE - CRUSHED/CUBED</td>\n",
       "      <td>22 LB</td>\n",
       "      <td>NaN</td>\n",
       "      <td>NaN</td>\n",
       "      <td>NaN</td>\n",
       "      <td>...</td>\n",
       "      <td>NaN</td>\n",
       "      <td>NaN</td>\n",
       "      <td>NaN</td>\n",
       "      <td>NaN</td>\n",
       "      <td>0</td>\n",
       "      <td>0.0</td>\n",
       "      <td>112255</td>\n",
       "      <td>0.137313</td>\n",
       "      <td>101</td>\n",
       "      <td>0.134667</td>\n",
       "    </tr>\n",
       "    <tr>\n",
       "      <th>1</th>\n",
       "      <td>26081</td>\n",
       "      <td>2</td>\n",
       "      <td>MISC. TRANS.</td>\n",
       "      <td>National</td>\n",
       "      <td>NO COMMODITY DESCRIPTION</td>\n",
       "      <td>NO SUBCOMMODITY DESCRIPTION</td>\n",
       "      <td></td>\n",
       "      <td>NaN</td>\n",
       "      <td>NaN</td>\n",
       "      <td>NaN</td>\n",
       "      <td>...</td>\n",
       "      <td>NaN</td>\n",
       "      <td>NaN</td>\n",
       "      <td>NaN</td>\n",
       "      <td>NaN</td>\n",
       "      <td>0</td>\n",
       "      <td>0.0</td>\n",
       "      <td>226</td>\n",
       "      <td>0.058580</td>\n",
       "      <td>225</td>\n",
       "      <td>0.064433</td>\n",
       "    </tr>\n",
       "  </tbody>\n",
       "</table>\n",
       "<p>2 rows × 29 columns</p>\n",
       "</div>"
      ],
      "text/plain": [
       "   item_id manufacturer    department     brand            commodity_desc  \\\n",
       "0    25671            2       GROCERY  National                  FRZN ICE   \n",
       "1    26081            2  MISC. TRANS.  National  NO COMMODITY DESCRIPTION   \n",
       "\n",
       "            sub_commodity_desc curr_size_of_product   0   1   2  ...  12  13  \\\n",
       "0          ICE - CRUSHED/CUBED                22 LB NaN NaN NaN  ... NaN NaN   \n",
       "1  NO SUBCOMMODITY DESCRIPTION                      NaN NaN NaN  ... NaN NaN   \n",
       "\n",
       "   14  coupon_disc  quantity_of_sales  quantity_of_sales_per_week  \\\n",
       "0 NaN          NaN                  0                         0.0   \n",
       "1 NaN          NaN                  0                         0.0   \n",
       "\n",
       "   qnt_of_sales_per_dep  qnt_of_sales_per_item_per_dep_per_week  \\\n",
       "0                112255                                0.137313   \n",
       "1                   226                                0.058580   \n",
       "\n",
       "   qnt_of_sales_per_sub_commodity_desc  \\\n",
       "0                                  101   \n",
       "1                                  225   \n",
       "\n",
       "   qnt_of_sales_per_item_per_sub_commodity_desc_per_week  \n",
       "0                                           0.134667      \n",
       "1                                           0.064433      \n",
       "\n",
       "[2 rows x 29 columns]"
      ]
     },
     "execution_count": 8,
     "metadata": {},
     "output_type": "execute_result"
    }
   ],
   "source": [
    "item_features = new_item_features(train_2, item_features, items_emb_df)\n",
    "item_features.head(2)"
   ]
  },
  {
   "cell_type": "code",
   "execution_count": 9,
   "metadata": {},
   "outputs": [
    {
     "data": {
      "text/html": [
       "<div>\n",
       "<style scoped>\n",
       "    .dataframe tbody tr th:only-of-type {\n",
       "        vertical-align: middle;\n",
       "    }\n",
       "\n",
       "    .dataframe tbody tr th {\n",
       "        vertical-align: top;\n",
       "    }\n",
       "\n",
       "    .dataframe thead th {\n",
       "        text-align: right;\n",
       "    }\n",
       "</style>\n",
       "<table border=\"1\" class=\"dataframe\">\n",
       "  <thead>\n",
       "    <tr style=\"text-align: right;\">\n",
       "      <th></th>\n",
       "      <th>marital_status_code</th>\n",
       "      <th>homeowner_desc</th>\n",
       "      <th>hh_comp_desc</th>\n",
       "      <th>household_size_desc</th>\n",
       "      <th>user_id</th>\n",
       "      <th>0</th>\n",
       "      <th>1</th>\n",
       "      <th>2</th>\n",
       "      <th>3</th>\n",
       "      <th>4</th>\n",
       "      <th>...</th>\n",
       "      <th>11</th>\n",
       "      <th>12</th>\n",
       "      <th>13</th>\n",
       "      <th>14</th>\n",
       "      <th>mean_time</th>\n",
       "      <th>age</th>\n",
       "      <th>income</th>\n",
       "      <th>kids</th>\n",
       "      <th>average_basket</th>\n",
       "      <th>sum_per_week</th>\n",
       "    </tr>\n",
       "  </thead>\n",
       "  <tbody>\n",
       "    <tr>\n",
       "      <th>0</th>\n",
       "      <td>A</td>\n",
       "      <td>Homeowner</td>\n",
       "      <td>2 Adults No Kids</td>\n",
       "      <td>2</td>\n",
       "      <td>1</td>\n",
       "      <td>-3.054558</td>\n",
       "      <td>14.229646</td>\n",
       "      <td>9.226919</td>\n",
       "      <td>21.877134</td>\n",
       "      <td>-8.622240</td>\n",
       "      <td>...</td>\n",
       "      <td>9.871156</td>\n",
       "      <td>6.480928</td>\n",
       "      <td>-2.626936</td>\n",
       "      <td>-8.428640</td>\n",
       "      <td>1324.803711</td>\n",
       "      <td>70</td>\n",
       "      <td>45</td>\n",
       "      <td>0</td>\n",
       "      <td>2.487290</td>\n",
       "      <td>44.356667</td>\n",
       "    </tr>\n",
       "    <tr>\n",
       "      <th>1</th>\n",
       "      <td>A</td>\n",
       "      <td>Homeowner</td>\n",
       "      <td>2 Adults No Kids</td>\n",
       "      <td>2</td>\n",
       "      <td>7</td>\n",
       "      <td>-1.402323</td>\n",
       "      <td>0.131635</td>\n",
       "      <td>14.233590</td>\n",
       "      <td>10.636305</td>\n",
       "      <td>11.728805</td>\n",
       "      <td>...</td>\n",
       "      <td>17.191568</td>\n",
       "      <td>4.310338</td>\n",
       "      <td>7.719049</td>\n",
       "      <td>24.581388</td>\n",
       "      <td>1622.862915</td>\n",
       "      <td>50</td>\n",
       "      <td>70</td>\n",
       "      <td>0</td>\n",
       "      <td>2.547257</td>\n",
       "      <td>74.295000</td>\n",
       "    </tr>\n",
       "  </tbody>\n",
       "</table>\n",
       "<p>2 rows × 26 columns</p>\n",
       "</div>"
      ],
      "text/plain": [
       "  marital_status_code homeowner_desc      hh_comp_desc household_size_desc  \\\n",
       "0                   A      Homeowner  2 Adults No Kids                   2   \n",
       "1                   A      Homeowner  2 Adults No Kids                   2   \n",
       "\n",
       "   user_id         0          1          2          3          4  ...  \\\n",
       "0        1 -3.054558  14.229646   9.226919  21.877134  -8.622240  ...   \n",
       "1        7 -1.402323   0.131635  14.233590  10.636305  11.728805  ...   \n",
       "\n",
       "          11        12        13         14    mean_time  age  income  kids  \\\n",
       "0   9.871156  6.480928 -2.626936  -8.428640  1324.803711   70      45     0   \n",
       "1  17.191568  4.310338  7.719049  24.581388  1622.862915   50      70     0   \n",
       "\n",
       "   average_basket  sum_per_week  \n",
       "0        2.487290     44.356667  \n",
       "1        2.547257     74.295000  \n",
       "\n",
       "[2 rows x 26 columns]"
      ]
     },
     "execution_count": 9,
     "metadata": {},
     "output_type": "execute_result"
    }
   ],
   "source": [
    "user_features = new_user_features(train_2, user_features, users_emb_df)\n",
    "user_features.head(2)"
   ]
  },
  {
   "cell_type": "markdown",
   "metadata": {},
   "source": [
    "### Предобработка обучающего и валидационного датасетов"
   ]
  },
  {
   "cell_type": "code",
   "execution_count": 10,
   "metadata": {},
   "outputs": [],
   "source": [
    "X_train, y_train = train_test_preprocessing(train_2, train_1, recommender, item_features, user_features)"
   ]
  },
  {
   "cell_type": "code",
   "execution_count": 11,
   "metadata": {},
   "outputs": [
    {
     "data": {
      "text/plain": [
       "['manufacturer',\n",
       " 'department',\n",
       " 'brand',\n",
       " 'commodity_desc',\n",
       " 'sub_commodity_desc',\n",
       " 'curr_size_of_product',\n",
       " 'marital_status_code',\n",
       " 'homeowner_desc',\n",
       " 'hh_comp_desc',\n",
       " 'household_size_desc']"
      ]
     },
     "execution_count": 11,
     "metadata": {},
     "output_type": "execute_result"
    }
   ],
   "source": [
    "cat_feats = X_train.select_dtypes(include=['object']).columns.tolist()\n",
    "cat_feats"
   ]
  },
  {
   "cell_type": "code",
   "execution_count": 12,
   "metadata": {},
   "outputs": [],
   "source": [
    "X_train[cat_feats + ['user_id', 'item_id']] = X_train[cat_feats + ['user_id', 'item_id']].astype('category')\n",
    "\n",
    "# X_train[cat_feats] = X_train[cat_feats].astype('category')\n",
    "\n",
    "# X_test, y_test = train_test_preprocessing(val_2, train_1, recommender, item_features, user_features)\n",
    "\n",
    "# X_test[cat_feats + ['user_id', 'item_id']] = X_test[cat_feats + ['user_id', 'item_id']].astype('category')\n",
    "\n",
    "X_test_1, y_test_1 = train_test_preprocessing(test_1, train_1, recommender, item_features, user_features)\n",
    "X_test_1[cat_feats + ['user_id', 'item_id']] = X_test_1[cat_feats + ['user_id', 'item_id']].astype('category')\n",
    "# X_test_1[cat_feats] = X_test_1[cat_feats].astype('category')"
   ]
  },
  {
   "cell_type": "markdown",
   "metadata": {},
   "source": [
    "## Второй уровень рекомендаций с использованием LGBMClassifier"
   ]
  },
  {
   "cell_type": "code",
   "execution_count": 13,
   "metadata": {},
   "outputs": [],
   "source": [
    "lgb = LGBMClassifier(objective='binary', max_depth=3, categorical_feature=cat_feats, random_state=1)"
   ]
  },
  {
   "cell_type": "markdown",
   "metadata": {},
   "source": [
    "### Отбор признаков"
   ]
  },
  {
   "cell_type": "code",
   "execution_count": 14,
   "metadata": {},
   "outputs": [
    {
     "data": {
      "text/plain": [
       "['user_id',\n",
       " 'item_id',\n",
       " 'sub_commodity_desc',\n",
       " '0_x',\n",
       " '1_x',\n",
       " '2_x',\n",
       " '3_x',\n",
       " '4_x',\n",
       " '5_x',\n",
       " '6_x',\n",
       " '7_x',\n",
       " '8_x',\n",
       " '9_x',\n",
       " '10_x',\n",
       " '11_x',\n",
       " '12_x',\n",
       " '13_x',\n",
       " '14_x',\n",
       " 'coupon_disc',\n",
       " 'quantity_of_sales',\n",
       " 'qnt_of_sales_per_dep',\n",
       " 'qnt_of_sales_per_item_per_dep_per_week',\n",
       " 'qnt_of_sales_per_sub_commodity_desc',\n",
       " 'qnt_of_sales_per_item_per_sub_commodity_desc_per_week',\n",
       " 'marital_status_code',\n",
       " '0_y',\n",
       " '1_y',\n",
       " '2_y',\n",
       " '3_y',\n",
       " '4_y',\n",
       " '5_y',\n",
       " '6_y',\n",
       " '8_y',\n",
       " '11_y',\n",
       " '13_y',\n",
       " 'average_basket',\n",
       " 'sum_per_week']"
      ]
     },
     "execution_count": 14,
     "metadata": {},
     "output_type": "execute_result"
    }
   ],
   "source": [
    "basic_feats = get_important_features(lgb, X_train, y_train)\n",
    "basic_feats"
   ]
  },
  {
   "cell_type": "markdown",
   "metadata": {},
   "source": [
    "### Подбор параметров и обучение модели"
   ]
  },
  {
   "cell_type": "code",
   "execution_count": 15,
   "metadata": {},
   "outputs": [],
   "source": [
    "param_grid = {\n",
    "    'learning_rate': np.linspace(0.005, 0.03, num=5), \n",
    "    'max_depth': [3, 4], \n",
    "    'reg_alpha': np.linspace(0.000001, 0.0001, num=5), \n",
    "    'reg_lambda': np.linspace(0.001, 0.05, num=5)\n",
    "}"
   ]
  },
  {
   "cell_type": "code",
   "execution_count": 16,
   "metadata": {},
   "outputs": [
    {
     "name": "stdout",
     "output_type": "stream",
     "text": [
      "Best parameters found by grid search are: {'learning_rate': 0.017499999999999998, 'max_depth': 3, 'reg_alpha': 5.05e-05, 'reg_lambda': 0.001}\n",
      "Wall time: 4min 31s\n"
     ]
    }
   ],
   "source": [
    "%%time\n",
    "gbm = GridSearchCV(lgb, param_grid, cv=5, n_jobs=-1)\n",
    "gbm.fit(X_train[basic_feats], y_train)\n",
    "\n",
    "print('Best parameters found by grid search are:', gbm.best_params_)"
   ]
  },
  {
   "cell_type": "code",
   "execution_count": 17,
   "metadata": {},
   "outputs": [
    {
     "data": {
      "text/plain": [
       "LGBMClassifier(boosting_type='gbdt',\n",
       "               categorical_feature=['manufacturer', 'department', 'brand',\n",
       "                                    'commodity_desc', 'sub_commodity_desc',\n",
       "                                    'curr_size_of_product',\n",
       "                                    'marital_status_code', 'homeowner_desc',\n",
       "                                    'hh_comp_desc', 'household_size_desc'],\n",
       "               class_weight=None, colsample_bytree=1.0, importance_type='split',\n",
       "               learning_rate=0.017499999999999998, max_depth=3,\n",
       "               min_child_samples=20, min_child_weight=0.001, min_split_gain=0.0,\n",
       "               n_estimators=500, n_jobs=-1, num_leaves=31, objective='binary',\n",
       "               random_state=1, reg_alpha=5.05e-05, reg_lambda=0.001,\n",
       "               silent=True, subsample=1.0, subsample_for_bin=200000,\n",
       "               subsample_freq=0)"
      ]
     },
     "execution_count": 17,
     "metadata": {},
     "output_type": "execute_result"
    }
   ],
   "source": [
    "params = gbm.best_params_\n",
    "lgb = LGBMClassifier(\n",
    "    objective='binary', \n",
    "    categorical_feature=cat_feats, \n",
    "    random_state=1, \n",
    "    **params, \n",
    "    n_jobs=-1, \n",
    "    n_estimators=500\n",
    ")\n",
    "lgb.fit(X_train[basic_feats], y_train)"
   ]
  },
  {
   "cell_type": "markdown",
   "metadata": {},
   "source": [
    "### Предсказание на тестовой выборке"
   ]
  },
  {
   "cell_type": "code",
   "execution_count": 18,
   "metadata": {},
   "outputs": [
    {
     "data": {
      "text/plain": [
       "True"
      ]
     },
     "execution_count": 18,
     "metadata": {},
     "output_type": "execute_result"
    }
   ],
   "source": [
    "# test_preds_proba = lgb.predict_proba(X_test[basic_feats])[:, 1]\n",
    "test_preds_proba = lgb.predict_proba(X_test_1[basic_feats])[:, 1]\n",
    "\n",
    "# result = get_final_recomendation(X_test, test_preds_proba, val_2, train_1)\n",
    "result = get_final_recomendation(X_test_1, test_preds_proba, test_1, train_1)\n",
    "\n",
    "# result.user_id.nunique() == val_2.user_id.nunique()\n",
    "result.user_id.nunique() == test_1.user_id.nunique()"
   ]
  },
  {
   "cell_type": "code",
   "execution_count": 19,
   "metadata": {},
   "outputs": [
    {
     "data": {
      "text/plain": [
       "0.3110875331564981"
      ]
     },
     "execution_count": 19,
     "metadata": {},
     "output_type": "execute_result"
    }
   ],
   "source": [
    "result.apply(lambda row: precision_at_k(row['recomendations'], row['actual']), axis=1).mean()"
   ]
  },
  {
   "cell_type": "markdown",
   "metadata": {},
   "source": [
    "### Предсказание для трейна"
   ]
  },
  {
   "cell_type": "code",
   "execution_count": 20,
   "metadata": {},
   "outputs": [],
   "source": [
    "X_test_2, y_test_2 = train_test_preprocessing(data, train_1, recommender, item_features, user_features)\n",
    "X_test_2[cat_feats + ['user_id', 'item_id']] = X_test_2[cat_feats + ['user_id', 'item_id']].astype('category')"
   ]
  },
  {
   "cell_type": "code",
   "execution_count": 21,
   "metadata": {},
   "outputs": [
    {
     "data": {
      "text/plain": [
       "True"
      ]
     },
     "execution_count": 21,
     "metadata": {},
     "output_type": "execute_result"
    }
   ],
   "source": [
    "test_preds_proba = lgb.predict_proba(X_test_2[basic_feats])[:, 1]\n",
    "\n",
    "result = get_final_recomendation(X_test_2, test_preds_proba, data, train_1)\n",
    "\n",
    "result.user_id.nunique() == data.user_id.nunique()"
   ]
  },
  {
   "cell_type": "code",
   "execution_count": 22,
   "metadata": {},
   "outputs": [
    {
     "data": {
      "text/plain": [
       "0.947579031612645"
      ]
     },
     "execution_count": 22,
     "metadata": {},
     "output_type": "execute_result"
    }
   ],
   "source": [
    "result.apply(lambda row: precision_at_k(row['recomendations'], row['actual']), axis=1).mean()"
   ]
  },
  {
   "cell_type": "code",
   "execution_count": 23,
   "metadata": {},
   "outputs": [],
   "source": [
    "result.drop('actual', axis=1, inplace=True)"
   ]
  },
  {
   "cell_type": "code",
   "execution_count": 24,
   "metadata": {},
   "outputs": [],
   "source": [
    "# result.to_csv('recommendations.csv', index=False)"
   ]
  },
  {
   "cell_type": "code",
   "execution_count": null,
   "metadata": {},
   "outputs": [],
   "source": []
  }
 ],
 "metadata": {
  "kernelspec": {
   "display_name": "Python 3",
   "language": "python",
   "name": "python3"
  },
  "language_info": {
   "codemirror_mode": {
    "name": "ipython",
    "version": 3
   },
   "file_extension": ".py",
   "mimetype": "text/x-python",
   "name": "python",
   "nbconvert_exporter": "python",
   "pygments_lexer": "ipython3",
   "version": "3.7.6"
  }
 },
 "nbformat": 4,
 "nbformat_minor": 2
}
