{
 "cells": [
  {
   "cell_type": "markdown",
   "metadata": {},
   "source": [
    "### Импорты библиотек"
   ]
  },
  {
   "cell_type": "code",
   "execution_count": 1,
   "metadata": {},
   "outputs": [
    {
     "name": "stderr",
     "output_type": "stream",
     "text": [
      "C:\\Users\\ataga\\anaconda3\\lib\\site-packages\\lightfm\\_lightfm_fast.py:9: UserWarning: LightFM was compiled without OpenMP support. Only a single thread will be used.\n",
      "  warnings.warn('LightFM was compiled without OpenMP support. '\n"
     ]
    }
   ],
   "source": [
    "import pandas as pd\n",
    "import numpy as np\n",
    "import matplotlib.pyplot as plt\n",
    "%matplotlib inline\n",
    "\n",
    "from scipy.sparse import csr_matrix\n",
    "from implicit import als\n",
    "\n",
    "from lightfm import LightFM\n",
    "from lightfm.evaluation import precision_at_k as prec_at_k\n",
    "\n",
    "import os, sys\n",
    "module_path = os.path.abspath(os.path.join(os.pardir))\n",
    "if module_path not in sys.path:\n",
    "    sys.path.append(module_path)\n",
    "\n",
    "# Написанные нами функции\n",
    "from src.metrics import precision_at_k, recall_at_k\n",
    "from src.utils import prefilter_items, popularity_recommendation\n",
    "from src.recommenders import MainRecommender\n",
    "from src.preprocessing import new_item_features, new_user_features, train_test_preprocessing\n",
    "from src.preprocessing import popularity_recommendation, get_important_features, get_final_recomendation\n",
    "\n",
    "import datetime\n",
    "import operator\n",
    "\n",
    "import warnings\n",
    "warnings.simplefilter('ignore')"
   ]
  },
  {
   "cell_type": "markdown",
   "metadata": {},
   "source": [
    "### Загрузка данных"
   ]
  },
  {
   "cell_type": "code",
   "execution_count": 2,
   "metadata": {},
   "outputs": [],
   "source": [
    "DATA_PATH = '../data/retail_train.csv'\n",
    "ITEM_FEATURES_PATH = '../data/product.csv'\n",
    "USER_FEATURES_PATH = '../data/hh_demographic.csv'\n",
    "TEST_1_PATH = '../data/retail_test1.csv'\n",
    "TEST_2_PATH = '../data/retail_test2.csv'\n",
    "\n",
    "data = pd.read_csv(DATA_PATH)\n",
    "item_features = pd.read_csv(ITEM_FEATURES_PATH)\n",
    "user_features = pd.read_csv(USER_FEATURES_PATH)\n",
    "test_1 = pd.read_csv(TEST_1_PATH)\n",
    "\n",
    "# column processing\n",
    "item_features.columns = [col.lower() for col in item_features.columns]\n",
    "user_features.columns = [col.lower() for col in user_features.columns]\n",
    "\n",
    "item_features.rename(columns={'product_id': 'item_id'}, inplace=True)\n",
    "user_features.rename(columns={'household_key': 'user_id'}, inplace=True)"
   ]
  },
  {
   "cell_type": "code",
   "execution_count": 3,
   "metadata": {},
   "outputs": [],
   "source": [
    "train_1 = data"
   ]
  },
  {
   "cell_type": "markdown",
   "metadata": {},
   "source": [
    "### Применяем фильтрацию к датасету, оставляем только нужных кандидатов"
   ]
  },
  {
   "cell_type": "code",
   "execution_count": 4,
   "metadata": {},
   "outputs": [],
   "source": [
    "train_1 = prefilter_items(train_1, item_features=item_features, take_n_popular=200)\n",
    "\n",
    "test_1 = prefilter_items(test_1, item_features=item_features, take_n_popular=200)"
   ]
  },
  {
   "cell_type": "code",
   "execution_count": 5,
   "metadata": {},
   "outputs": [
    {
     "name": "stderr",
     "output_type": "stream",
     "text": [
      "WARNING:root:Intel MKL BLAS detected. Its highly recommend to set the environment variable 'export MKL_NUM_THREADS=1' to disable its internal multithreading\n"
     ]
    },
    {
     "data": {
      "application/vnd.jupyter.widget-view+json": {
       "model_id": "58ad3522b5b9407b8b525319880763eb",
       "version_major": 2,
       "version_minor": 0
      },
      "text/plain": [
       "HBox(children=(FloatProgress(value=0.0, max=20.0), HTML(value='')))"
      ]
     },
     "metadata": {},
     "output_type": "display_data"
    },
    {
     "name": "stdout",
     "output_type": "stream",
     "text": [
      "\n"
     ]
    },
    {
     "data": {
      "application/vnd.jupyter.widget-view+json": {
       "model_id": "d81aafd53f8e42ab92e7c0a21b7be289",
       "version_major": 2,
       "version_minor": 0
      },
      "text/plain": [
       "HBox(children=(FloatProgress(value=0.0, max=201.0), HTML(value='')))"
      ]
     },
     "metadata": {},
     "output_type": "display_data"
    },
    {
     "name": "stdout",
     "output_type": "stream",
     "text": [
      "\n"
     ]
    }
   ],
   "source": [
    "recommender = MainRecommender(train_1)"
   ]
  },
  {
   "cell_type": "markdown",
   "metadata": {},
   "source": [
    "#### Эмбеддинги товаров и юзеров"
   ]
  },
  {
   "cell_type": "code",
   "execution_count": 6,
   "metadata": {},
   "outputs": [],
   "source": [
    "items_emb_df = recommender.items_emb_df\n",
    "users_emb_df = recommender.users_emb_df"
   ]
  },
  {
   "cell_type": "markdown",
   "metadata": {},
   "source": [
    "### Добавим фичи"
   ]
  },
  {
   "cell_type": "code",
   "execution_count": 7,
   "metadata": {},
   "outputs": [
    {
     "data": {
      "text/html": [
       "<div>\n",
       "<style scoped>\n",
       "    .dataframe tbody tr th:only-of-type {\n",
       "        vertical-align: middle;\n",
       "    }\n",
       "\n",
       "    .dataframe tbody tr th {\n",
       "        vertical-align: top;\n",
       "    }\n",
       "\n",
       "    .dataframe thead th {\n",
       "        text-align: right;\n",
       "    }\n",
       "</style>\n",
       "<table border=\"1\" class=\"dataframe\">\n",
       "  <thead>\n",
       "    <tr style=\"text-align: right;\">\n",
       "      <th></th>\n",
       "      <th>item_id</th>\n",
       "      <th>manufacturer</th>\n",
       "      <th>brand</th>\n",
       "      <th>commodity_desc</th>\n",
       "      <th>sub_commodity_desc</th>\n",
       "      <th>0</th>\n",
       "      <th>1</th>\n",
       "      <th>2</th>\n",
       "      <th>3</th>\n",
       "      <th>4</th>\n",
       "      <th>...</th>\n",
       "      <th>12</th>\n",
       "      <th>13</th>\n",
       "      <th>14</th>\n",
       "      <th>coupon_disc</th>\n",
       "      <th>quantity_of_sales</th>\n",
       "      <th>quantity_of_sales_per_week</th>\n",
       "      <th>qnt_of_sales_per_dep</th>\n",
       "      <th>qnt_of_sales_per_item_per_dep_per_week</th>\n",
       "      <th>qnt_of_sales_per_sub_commodity_desc</th>\n",
       "      <th>qnt_of_sales_per_item_per_sub_commodity_desc_per_week</th>\n",
       "    </tr>\n",
       "  </thead>\n",
       "  <tbody>\n",
       "    <tr>\n",
       "      <th>0</th>\n",
       "      <td>25671</td>\n",
       "      <td>2</td>\n",
       "      <td>National</td>\n",
       "      <td>FRZN ICE</td>\n",
       "      <td>ICE - CRUSHED/CUBED</td>\n",
       "      <td>NaN</td>\n",
       "      <td>NaN</td>\n",
       "      <td>NaN</td>\n",
       "      <td>NaN</td>\n",
       "      <td>NaN</td>\n",
       "      <td>...</td>\n",
       "      <td>NaN</td>\n",
       "      <td>NaN</td>\n",
       "      <td>NaN</td>\n",
       "      <td>NaN</td>\n",
       "      <td>0</td>\n",
       "      <td>0.0</td>\n",
       "      <td>246664</td>\n",
       "      <td>0.009092</td>\n",
       "      <td>1047</td>\n",
       "      <td>0.010252</td>\n",
       "    </tr>\n",
       "    <tr>\n",
       "      <th>1</th>\n",
       "      <td>26081</td>\n",
       "      <td>2</td>\n",
       "      <td>National</td>\n",
       "      <td>NO COMMODITY DESCRIPTION</td>\n",
       "      <td>NO SUBCOMMODITY DESCRIPTION</td>\n",
       "      <td>NaN</td>\n",
       "      <td>NaN</td>\n",
       "      <td>NaN</td>\n",
       "      <td>NaN</td>\n",
       "      <td>NaN</td>\n",
       "      <td>...</td>\n",
       "      <td>NaN</td>\n",
       "      <td>NaN</td>\n",
       "      <td>NaN</td>\n",
       "      <td>NaN</td>\n",
       "      <td>0</td>\n",
       "      <td>0.0</td>\n",
       "      <td>0</td>\n",
       "      <td>0.000000</td>\n",
       "      <td>0</td>\n",
       "      <td>0.000000</td>\n",
       "    </tr>\n",
       "  </tbody>\n",
       "</table>\n",
       "<p>2 rows × 27 columns</p>\n",
       "</div>"
      ],
      "text/plain": [
       "   item_id manufacturer     brand            commodity_desc  \\\n",
       "0    25671            2  National                  FRZN ICE   \n",
       "1    26081            2  National  NO COMMODITY DESCRIPTION   \n",
       "\n",
       "            sub_commodity_desc   0   1   2   3   4  ...  12  13  14  \\\n",
       "0          ICE - CRUSHED/CUBED NaN NaN NaN NaN NaN  ... NaN NaN NaN   \n",
       "1  NO SUBCOMMODITY DESCRIPTION NaN NaN NaN NaN NaN  ... NaN NaN NaN   \n",
       "\n",
       "   coupon_disc  quantity_of_sales  quantity_of_sales_per_week  \\\n",
       "0          NaN                  0                         0.0   \n",
       "1          NaN                  0                         0.0   \n",
       "\n",
       "   qnt_of_sales_per_dep  qnt_of_sales_per_item_per_dep_per_week  \\\n",
       "0                246664                                0.009092   \n",
       "1                     0                                0.000000   \n",
       "\n",
       "   qnt_of_sales_per_sub_commodity_desc  \\\n",
       "0                                 1047   \n",
       "1                                    0   \n",
       "\n",
       "   qnt_of_sales_per_item_per_sub_commodity_desc_per_week  \n",
       "0                                           0.010252      \n",
       "1                                           0.000000      \n",
       "\n",
       "[2 rows x 27 columns]"
      ]
     },
     "execution_count": 7,
     "metadata": {},
     "output_type": "execute_result"
    }
   ],
   "source": [
    "item_features = new_item_features(train_1, item_features, items_emb_df).drop(['curr_size_of_product', 'department'], axis=1)\n",
    "item_features.head(2)"
   ]
  },
  {
   "cell_type": "code",
   "execution_count": 8,
   "metadata": {},
   "outputs": [
    {
     "data": {
      "text/html": [
       "<div>\n",
       "<style scoped>\n",
       "    .dataframe tbody tr th:only-of-type {\n",
       "        vertical-align: middle;\n",
       "    }\n",
       "\n",
       "    .dataframe tbody tr th {\n",
       "        vertical-align: top;\n",
       "    }\n",
       "\n",
       "    .dataframe thead th {\n",
       "        text-align: right;\n",
       "    }\n",
       "</style>\n",
       "<table border=\"1\" class=\"dataframe\">\n",
       "  <thead>\n",
       "    <tr style=\"text-align: right;\">\n",
       "      <th></th>\n",
       "      <th>marital_status_code</th>\n",
       "      <th>homeowner_desc</th>\n",
       "      <th>hh_comp_desc</th>\n",
       "      <th>household_size_desc</th>\n",
       "      <th>user_id</th>\n",
       "      <th>0</th>\n",
       "      <th>1</th>\n",
       "      <th>2</th>\n",
       "      <th>3</th>\n",
       "      <th>4</th>\n",
       "      <th>...</th>\n",
       "      <th>11</th>\n",
       "      <th>12</th>\n",
       "      <th>13</th>\n",
       "      <th>14</th>\n",
       "      <th>mean_time</th>\n",
       "      <th>age</th>\n",
       "      <th>income</th>\n",
       "      <th>kids</th>\n",
       "      <th>average_basket</th>\n",
       "      <th>sum_per_week</th>\n",
       "    </tr>\n",
       "  </thead>\n",
       "  <tbody>\n",
       "    <tr>\n",
       "      <th>0</th>\n",
       "      <td>A</td>\n",
       "      <td>Homeowner</td>\n",
       "      <td>2 Adults No Kids</td>\n",
       "      <td>2</td>\n",
       "      <td>1</td>\n",
       "      <td>18.444780</td>\n",
       "      <td>13.462650</td>\n",
       "      <td>0.079428</td>\n",
       "      <td>8.146093</td>\n",
       "      <td>15.460316</td>\n",
       "      <td>...</td>\n",
       "      <td>8.576681</td>\n",
       "      <td>28.571972</td>\n",
       "      <td>-5.764569</td>\n",
       "      <td>12.167542</td>\n",
       "      <td>1384.800537</td>\n",
       "      <td>70</td>\n",
       "      <td>45</td>\n",
       "      <td>0</td>\n",
       "      <td>2.492077</td>\n",
       "      <td>41.683263</td>\n",
       "    </tr>\n",
       "    <tr>\n",
       "      <th>1</th>\n",
       "      <td>A</td>\n",
       "      <td>Homeowner</td>\n",
       "      <td>2 Adults No Kids</td>\n",
       "      <td>2</td>\n",
       "      <td>7</td>\n",
       "      <td>11.907116</td>\n",
       "      <td>19.949179</td>\n",
       "      <td>2.759631</td>\n",
       "      <td>14.283819</td>\n",
       "      <td>16.474358</td>\n",
       "      <td>...</td>\n",
       "      <td>13.135862</td>\n",
       "      <td>-1.740844</td>\n",
       "      <td>16.685032</td>\n",
       "      <td>2.346057</td>\n",
       "      <td>1689.314331</td>\n",
       "      <td>50</td>\n",
       "      <td>70</td>\n",
       "      <td>0</td>\n",
       "      <td>2.673405</td>\n",
       "      <td>30.167263</td>\n",
       "    </tr>\n",
       "  </tbody>\n",
       "</table>\n",
       "<p>2 rows × 26 columns</p>\n",
       "</div>"
      ],
      "text/plain": [
       "  marital_status_code homeowner_desc      hh_comp_desc household_size_desc  \\\n",
       "0                   A      Homeowner  2 Adults No Kids                   2   \n",
       "1                   A      Homeowner  2 Adults No Kids                   2   \n",
       "\n",
       "   user_id          0          1         2          3          4  ...  \\\n",
       "0        1  18.444780  13.462650  0.079428   8.146093  15.460316  ...   \n",
       "1        7  11.907116  19.949179  2.759631  14.283819  16.474358  ...   \n",
       "\n",
       "          11         12         13         14    mean_time  age  income  kids  \\\n",
       "0   8.576681  28.571972  -5.764569  12.167542  1384.800537   70      45     0   \n",
       "1  13.135862  -1.740844  16.685032   2.346057  1689.314331   50      70     0   \n",
       "\n",
       "   average_basket  sum_per_week  \n",
       "0        2.492077     41.683263  \n",
       "1        2.673405     30.167263  \n",
       "\n",
       "[2 rows x 26 columns]"
      ]
     },
     "execution_count": 8,
     "metadata": {},
     "output_type": "execute_result"
    }
   ],
   "source": [
    "user_features = new_user_features(train_1, user_features, users_emb_df)\n",
    "user_features.head(2)"
   ]
  },
  {
   "cell_type": "markdown",
   "metadata": {},
   "source": [
    "### Предобработка обучающего и валидационного датасетов"
   ]
  },
  {
   "cell_type": "code",
   "execution_count": 9,
   "metadata": {},
   "outputs": [],
   "source": [
    "user_feat = pd.DataFrame(recommender.matrix_index)\n",
    "user_feat = user_feat.merge(user_features, on='user_id', how='left')\n",
    "user_feat.set_index('user_id', inplace=True)\n",
    "\n",
    "item_feat = pd.DataFrame(recommender.matrix_columns)\n",
    "item_feat = item_feat.merge(item_features, on='item_id', how='left')\n",
    "item_feat.set_index('item_id', inplace=True)"
   ]
  },
  {
   "cell_type": "code",
   "execution_count": 10,
   "metadata": {},
   "outputs": [],
   "source": [
    "user_feat_lightfm = pd.get_dummies(user_feat, columns=user_feat.select_dtypes(include=['object']).columns.tolist())\n",
    "item_feat_lightfm = pd.get_dummies(item_feat, columns=item_feat.select_dtypes(include=['object']).columns.tolist())"
   ]
  },
  {
   "cell_type": "code",
   "execution_count": 11,
   "metadata": {},
   "outputs": [],
   "source": [
    "user_feat_lightfm = user_feat_lightfm.fillna(0)\n",
    "item_feat_lightfm = item_feat_lightfm.fillna(0)"
   ]
  },
  {
   "cell_type": "code",
   "execution_count": 12,
   "metadata": {},
   "outputs": [
    {
     "name": "stdout",
     "output_type": "stream",
     "text": [
      "Wall time: 2min 18s\n"
     ]
    },
    {
     "data": {
      "text/plain": [
       "<lightfm.lightfm.LightFM at 0x1f106cd1a08>"
      ]
     },
     "execution_count": 12,
     "metadata": {},
     "output_type": "execute_result"
    }
   ],
   "source": [
    "%%time\n",
    "lightfm = LightFM(no_components=16,\n",
    "#                 loss='bpr', # 'warp'\n",
    "                loss='warp',\n",
    "                learning_rate=0.001, \n",
    "                item_alpha=0.01, user_alpha=0.01, \n",
    "                random_state=42)\n",
    "\n",
    "lightfm.fit((recommender.user_item_matrix > 0) * 1,  # user-item matrix из 0 и 1\n",
    "#           sample_weight=recommender.user_item_matrix,\n",
    "          user_features=csr_matrix(user_feat_lightfm.values).tocsr(),\n",
    "          item_features=csr_matrix(item_feat_lightfm.values).tocsr(),\n",
    "          epochs=15, \n",
    "          num_threads=4) "
   ]
  },
  {
   "cell_type": "code",
   "execution_count": 13,
   "metadata": {},
   "outputs": [
    {
     "data": {
      "text/plain": [
       "0.42056823"
      ]
     },
     "execution_count": 13,
     "metadata": {},
     "output_type": "execute_result"
    }
   ],
   "source": [
    "train_precision = prec_at_k(lightfm, \n",
    "                            recommender.user_item_matrix, \n",
    "                            user_features=csr_matrix(user_feat_lightfm.values).tocsr(),\n",
    "                            item_features=csr_matrix(item_feat_lightfm.values).tocsr(),\n",
    "                            k=5).mean()\n",
    "\n",
    "train_precision"
   ]
  },
  {
   "cell_type": "code",
   "execution_count": 14,
   "metadata": {},
   "outputs": [
    {
     "data": {
      "text/plain": [
       "0.41912765106042454"
      ]
     },
     "execution_count": 14,
     "metadata": {},
     "output_type": "execute_result"
    }
   ],
   "source": [
    "result_train_1 = train_1.groupby('user_id')['item_id'].unique().reset_index()\n",
    "result_train_1.columns=['user_id', 'actual']\n",
    "\n",
    "item_ids_ = item_feat_lightfm.index.drop(999999)\n",
    "item_ids = [recommender.itemid_to_id[x] for x in item_ids_]\n",
    "\n",
    "result_train_1['recs'] = result_train_1['user_id'].apply(lambda x: lightfm.predict(\n",
    "                            recommender.userid_to_id[x],\n",
    "                            item_ids=item_ids,\n",
    "                            user_features=csr_matrix(user_feat_lightfm.values).tocsr(),\n",
    "                            item_features=csr_matrix(item_feat_lightfm.values).tocsr(),\n",
    "                            num_threads=-1\n",
    "))\n",
    "\n",
    "\n",
    "result_train_1['final_recommendations'] = result_train_1['recs'].apply(\n",
    "    lambda x: list(dict(sorted(list(zip(x, item_ids_)),  reverse=True)[:5]).values())\n",
    ")\n",
    "\n",
    "\n",
    "result_train_1.apply(lambda row: precision_at_k(row['final_recommendations'], row['actual']), axis=1).mean()"
   ]
  },
  {
   "cell_type": "markdown",
   "metadata": {},
   "source": [
    "### Рекомендации для теста"
   ]
  },
  {
   "cell_type": "code",
   "execution_count": 15,
   "metadata": {},
   "outputs": [
    {
     "data": {
      "text/plain": [
       "0.10881104033970194"
      ]
     },
     "execution_count": 15,
     "metadata": {},
     "output_type": "execute_result"
    }
   ],
   "source": [
    "test_1 = test_1[test_1['user_id'].isin(train_1['user_id'].unique())]\n",
    "\n",
    "test_user_item_matrix = pd.pivot_table(test_1, \n",
    "                                  index='user_id', \n",
    "                                  columns='item_id', \n",
    "                                  values='quantity',\n",
    "                                  aggfunc='count', \n",
    "                                  fill_value=0\n",
    "                                 )\n",
    "\n",
    "test_user_item_matrix = test_user_item_matrix.astype(float) # необходимый тип матрицы для implicit\n",
    "\n",
    "result_test_1 = test_1.groupby('user_id')['item_id'].unique().reset_index()\n",
    "result_test_1.columns=['user_id', 'actual']\n",
    "\n",
    "item_ids_ = item_feat_lightfm.index.drop(999999)\n",
    "item_ids = [recommender.itemid_to_id[x] for x in item_ids_]\n",
    "\n",
    "result_test_1['recs'] = result_test_1['user_id'].apply(lambda x: lightfm.predict(\n",
    "                            recommender.userid_to_id[x],\n",
    "                            item_ids=item_ids,\n",
    "                            user_features=csr_matrix(user_feat_lightfm.values).tocsr(),\n",
    "                            item_features=csr_matrix(item_feat_lightfm.values).tocsr(),\n",
    "                            num_threads=-1\n",
    "))\n",
    "\n",
    "\n",
    "result_test_1['final_recommendations'] = result_test_1['recs'].apply(\n",
    "    lambda x: list(dict(sorted(list(zip(x, item_ids_)),  reverse=True)[:5]).values())\n",
    ")\n",
    "\n",
    "result_test_1.apply(lambda row: precision_at_k(row['final_recommendations'], row['actual']), axis=1).mean()"
   ]
  },
  {
   "cell_type": "code",
   "execution_count": null,
   "metadata": {},
   "outputs": [],
   "source": []
  }
 ],
 "metadata": {
  "kernelspec": {
   "display_name": "Python 3",
   "language": "python",
   "name": "python3"
  },
  "language_info": {
   "codemirror_mode": {
    "name": "ipython",
    "version": 3
   },
   "file_extension": ".py",
   "mimetype": "text/x-python",
   "name": "python",
   "nbconvert_exporter": "python",
   "pygments_lexer": "ipython3",
   "version": "3.7.6"
  }
 },
 "nbformat": 4,
 "nbformat_minor": 2
}
